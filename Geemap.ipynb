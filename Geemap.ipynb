{
 "cells": [
  {
   "cell_type": "code",
   "execution_count": 4,
   "id": "9100eaad-ff62-488c-9e58-4180d8b8d509",
   "metadata": {},
   "outputs": [
    {
     "data": {
      "application/vnd.jupyter.widget-view+json": {
       "model_id": "47a6fd9fedb2428ea184a615105dd391",
       "version_major": 2,
       "version_minor": 0
      },
      "text/plain": [
       "Map(center=[11.254456729830068, 77.3341713136586], controls=(WidgetControl(options=['position', 'transparent_b…"
      ]
     },
     "metadata": {},
     "output_type": "display_data"
    }
   ],
   "source": [
    "import ee\n",
    "import geemap\n",
    "\n",
    "# Create a map centered at (lat, lon).\n",
    "my_map = geemap.Map(center=[11.082423954075326, 76.99852004619041], zoom=11)\n",
    "\n",
    "# This function gets NDVI from Landsat 5 imagery.\n",
    "# geometry = ee.Geometry.Polygon([[\n",
    "#     [11.080417771330582, 76.86697184464953],\n",
    "#     [11.081091615882327, 77.04275308325141],\n",
    "#     [10.955055789956816, 76.98232828248202]]])\n",
    "\n",
    "geometry = ee.Geometry.Polygon([[\n",
    "[11.082423954075326, 76.99852004619041][::-1],\n",
    "[11.082405574175095, 76.99891964894591][::-1],\n",
    "[11.082147619399615, 76.99887136918694][::-1],\n",
    "[11.082179205710874, 76.99848513111507][::-1]\n",
    "]])\n",
    "\n",
    "\n",
    "def getNDVI(image):\n",
    "    return image.normalizedDifference(['B8', 'B4']).rename('NDVI')\n",
    "\n",
    "\n",
    "# image1 = ee.Image('LANDSAT/LT05/C01/T1_TOA/LT05_044034_19900604')\n",
    "\n",
    "image1 = ee.ImageCollection('COPERNICUS/S2_SR').filterBounds(geometry).filterDate('2022-05-20', '2022-06-30').first()\n",
    "\n",
    "# Compute NDVI from the scene.\n",
    "ndvi1 = getNDVI(image1)\n",
    "\n",
    "ndviParams = {'palette': ['#d73027', '#f46d43', '#fdae61',\n",
    "                          '#fee08b', '#d9ef8b', '#a6d96a', '#66bd63', '#1a9850']}\n",
    "\n",
    "my_map.centerObject(image1, 20)\n",
    "my_map.addLayer(ndvi1.clip(geometry), ndviParams, 'NDVI')\n",
    "\n",
    "# Display the map.\n",
    "my_map"
   ]
  },
  {
   "cell_type": "code",
   "execution_count": 18,
   "id": "da2b2ccc-86db-401c-88f5-3c1f380128ca",
   "metadata": {},
   "outputs": [],
   "source": [
    "#geemap.ee_search()"
   ]
  },
  {
   "cell_type": "code",
   "execution_count": null,
   "id": "bed37cea",
   "metadata": {},
   "outputs": [],
   "source": []
  },
  {
   "cell_type": "markdown",
   "id": "afabaeaf",
   "metadata": {},
   "source": [
    "https://geemap.org/workshops/GeoPython_2021/#create-a-split-panel-map\n",
    "\n",
    "https://tutorials.geemap.org/Image/math_operations/"
   ]
  },
  {
   "cell_type": "code",
   "execution_count": null,
   "id": "0439f34d",
   "metadata": {},
   "outputs": [],
   "source": []
  }
 ],
 "metadata": {
  "kernelspec": {
   "display_name": "Python 3.10.4 ('env': venv)",
   "language": "python",
   "name": "python3"
  },
  "language_info": {
   "codemirror_mode": {
    "name": "ipython",
    "version": 3
   },
   "file_extension": ".py",
   "mimetype": "text/x-python",
   "name": "python",
   "nbconvert_exporter": "python",
   "pygments_lexer": "ipython3",
   "version": "3.10.4"
  },
  "vscode": {
   "interpreter": {
    "hash": "898f895e7fc20d59319c203a3dc5a7e750cf87f4464757fa0f6bdc102b981732"
   }
  }
 },
 "nbformat": 4,
 "nbformat_minor": 5
}
